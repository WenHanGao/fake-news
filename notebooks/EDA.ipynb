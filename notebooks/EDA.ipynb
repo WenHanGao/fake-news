{
 "cells": [
  {
   "cell_type": "code",
   "execution_count": 2,
   "metadata": {},
   "outputs": [],
   "source": [
    "import pandas as pd\n",
    "import numpy as np\n",
    "import spacy\n",
    "from spacy.language import Language\n",
    "from spacy_langdetect import LanguageDetector\n",
    "import re\n",
    "\n",
    "nlp = spacy.load('en_core_web_sm')\n",
    "\n",
    "try:\n",
    "    @Language.factory(\"language_detector\")\n",
    "    def get_lang_detector(nlp, name):\n",
    "        return LanguageDetector()\n",
    "    nlp.add_pipe('language_detector', last=True)\n",
    "except Exception as e:\n",
    "    pass"
   ]
  },
  {
   "cell_type": "code",
   "execution_count": 3,
   "metadata": {},
   "outputs": [],
   "source": [
    "train_df = pd.read_csv('../data/train.csv')\n"
   ]
  },
  {
   "cell_type": "code",
   "execution_count": 4,
   "metadata": {},
   "outputs": [],
   "source": [
    "def is_eng(title, content):\n",
    "    if type(title) == float and type(content) == float:\n",
    "        return False\n",
    "    elif type(title) == float:\n",
    "        doc = nlp(content)\n",
    "        out = doc._.language\n",
    "        return out['language'] == 'en'\n",
    "    else:\n",
    "        doc = nlp(title)\n",
    "        out = doc._.language\n",
    "        return out['language'] == 'en'\n",
    "        \n",
    "en_train_df = train_df.loc[[is_eng(x[0], x[1]) for x in train_df[['title', 'text']].values]]"
   ]
  },
  {
   "cell_type": "code",
   "execution_count": 5,
   "metadata": {},
   "outputs": [
    {
     "name": "stdout",
     "output_type": "stream",
     "text": [
      "(19799, 5)\n"
     ]
    },
    {
     "data": {
      "text/html": [
       "<div>\n",
       "<style scoped>\n",
       "    .dataframe tbody tr th:only-of-type {\n",
       "        vertical-align: middle;\n",
       "    }\n",
       "\n",
       "    .dataframe tbody tr th {\n",
       "        vertical-align: top;\n",
       "    }\n",
       "\n",
       "    .dataframe thead th {\n",
       "        text-align: right;\n",
       "    }\n",
       "</style>\n",
       "<table border=\"1\" class=\"dataframe\">\n",
       "  <thead>\n",
       "    <tr style=\"text-align: right;\">\n",
       "      <th></th>\n",
       "      <th>id</th>\n",
       "      <th>title</th>\n",
       "      <th>author</th>\n",
       "      <th>text</th>\n",
       "      <th>label</th>\n",
       "    </tr>\n",
       "  </thead>\n",
       "  <tbody>\n",
       "    <tr>\n",
       "      <th>0</th>\n",
       "      <td>0</td>\n",
       "      <td>House Dem Aide: We Didn’t Even See Comey’s Let...</td>\n",
       "      <td>Darrell Lucus</td>\n",
       "      <td>House Dem Aide: We Didn’t Even See Comey’s Let...</td>\n",
       "      <td>1</td>\n",
       "    </tr>\n",
       "    <tr>\n",
       "      <th>1</th>\n",
       "      <td>1</td>\n",
       "      <td>FLYNN: Hillary Clinton, Big Woman on Campus - ...</td>\n",
       "      <td>Daniel J. Flynn</td>\n",
       "      <td>Ever get the feeling your life circles the rou...</td>\n",
       "      <td>0</td>\n",
       "    </tr>\n",
       "    <tr>\n",
       "      <th>2</th>\n",
       "      <td>2</td>\n",
       "      <td>Why the Truth Might Get You Fired</td>\n",
       "      <td>Consortiumnews.com</td>\n",
       "      <td>Why the Truth Might Get You Fired October 29, ...</td>\n",
       "      <td>1</td>\n",
       "    </tr>\n",
       "    <tr>\n",
       "      <th>3</th>\n",
       "      <td>3</td>\n",
       "      <td>15 Civilians Killed In Single US Airstrike Hav...</td>\n",
       "      <td>Jessica Purkiss</td>\n",
       "      <td>Videos 15 Civilians Killed In Single US Airstr...</td>\n",
       "      <td>1</td>\n",
       "    </tr>\n",
       "    <tr>\n",
       "      <th>4</th>\n",
       "      <td>4</td>\n",
       "      <td>Iranian woman jailed for fictional unpublished...</td>\n",
       "      <td>Howard Portnoy</td>\n",
       "      <td>Print \\nAn Iranian woman has been sentenced to...</td>\n",
       "      <td>1</td>\n",
       "    </tr>\n",
       "  </tbody>\n",
       "</table>\n",
       "</div>"
      ],
      "text/plain": [
       "   id                                              title              author  \\\n",
       "0   0  House Dem Aide: We Didn’t Even See Comey’s Let...       Darrell Lucus   \n",
       "1   1  FLYNN: Hillary Clinton, Big Woman on Campus - ...     Daniel J. Flynn   \n",
       "2   2                  Why the Truth Might Get You Fired  Consortiumnews.com   \n",
       "3   3  15 Civilians Killed In Single US Airstrike Hav...     Jessica Purkiss   \n",
       "4   4  Iranian woman jailed for fictional unpublished...      Howard Portnoy   \n",
       "\n",
       "                                                text  label  \n",
       "0  House Dem Aide: We Didn’t Even See Comey’s Let...      1  \n",
       "1  Ever get the feeling your life circles the rou...      0  \n",
       "2  Why the Truth Might Get You Fired October 29, ...      1  \n",
       "3  Videos 15 Civilians Killed In Single US Airstr...      1  \n",
       "4  Print \\nAn Iranian woman has been sentenced to...      1  "
      ]
     },
     "execution_count": 5,
     "metadata": {},
     "output_type": "execute_result"
    }
   ],
   "source": [
    "print(en_train_df.shape)\n",
    "en_train_df.head()"
   ]
  },
  {
   "cell_type": "code",
   "execution_count": 6,
   "metadata": {},
   "outputs": [
    {
     "data": {
      "text/plain": [
       "0    0.517198\n",
       "1    0.482802\n",
       "Name: label, dtype: float64"
      ]
     },
     "execution_count": 6,
     "metadata": {},
     "output_type": "execute_result"
    }
   ],
   "source": [
    "en_train_df['label'].value_counts(normalize=True)\n",
    "# 0 - reliable\n",
    "# 1 - unreliable"
   ]
  },
  {
   "cell_type": "markdown",
   "metadata": {},
   "source": [
    "# Title Features"
   ]
  },
  {
   "cell_type": "code",
   "execution_count": 7,
   "metadata": {},
   "outputs": [
    {
     "data": {
      "text/plain": [
       "array([['Cop Caught on His Own Body Camera Stealing Money From Unconscious Crash Victim',\n",
       "        1],\n",
       "       ['Letter of Recommendation: The Useless Machine - The New York Times',\n",
       "        0],\n",
       "       ['Lowry And McIlroy Off To Good Start At BLTC-NTPL-BDTN-STFL Tournament',\n",
       "        1],\n",
       "       ['U.S. Athletes Reassured After New Russian Hack - The New York Times',\n",
       "        0],\n",
       "       ['Donald Trump’s Victory Was Built on Unique Coalition of White Voters - The New York Times',\n",
       "        0],\n",
       "       ['Will the Real Democracy Lovers Please Stand Up? - The New York Times',\n",
       "        0],\n",
       "       ['“Florida Man” In The Headline Doesn’t Mean “Redneck”–Could Be A BLM Inspired Crime',\n",
       "        1],\n",
       "       ['Kenya’s Collective ‘Uh-Oh’: Another Election Is Coming - The New York Times',\n",
       "        0],\n",
       "       ['Court Throws Out $655.5 Million Terrorism Verdict Against Palestinian Groups - The New York Times',\n",
       "        0],\n",
       "       ['Susan Rice, Ex-Obama Adviser, Is Back in Political Cross Hairs Over Surveillance - The New York Times',\n",
       "        0]], dtype=object)"
      ]
     },
     "execution_count": 7,
     "metadata": {},
     "output_type": "execute_result"
    }
   ],
   "source": [
    "en_train_df.sample(10)[['title', 'label']].values"
   ]
  },
  {
   "cell_type": "code",
   "execution_count": 8,
   "metadata": {},
   "outputs": [
    {
     "name": "stdout",
     "output_type": "stream",
     "text": [
      "<re.Match object; span=(70, 81), match='- Breitbart'>\n"
     ]
    }
   ],
   "source": [
    "sample1 = 'Second Powerful Earthquake Strikes Japan - The New York Times'\n",
    "sample2 = 'Obamacare is Meant to Fail in Order to Usher in Government-Run Socialist Health Care'\n",
    "sample3 = 'FLYNN: Obama Would Not Be First President to Spy on Political Enemies - Breitbart'\n",
    "sample4 = 'BREAKING: It’s Going Down – the Clinton Investigation JUST GOT REAL' # '–' is not dash '-'\n",
    "sample5 = 'Working class man not particularly angry'\n",
    "sample6 = 'Has George Soros Committed Treason?'\n",
    "\n",
    "pattern = r'- [a-zA-Z0-9\\s]+$'\n",
    "print(re.search(pattern=pattern, string=sample3))\n",
    "\n",
    "def contains_source(title):\n",
    "    pattern = r'- [a-zA-Z0-9\\s]+$'\n",
    "    if type(title) == float:\n",
    "        return np.nan\n",
    "    elif re.search(pattern=pattern, string=title):\n",
    "        return 1\n",
    "    else:\n",
    "        return 0\n",
    "\n",
    "def num_caps(title):\n",
    "    if type(title) == float:\n",
    "        return np.nan\n",
    "    else:\n",
    "        tokens = title.split()\n",
    "        return len([token for token in tokens if token.isupper()])\n",
    "\n",
    "def title_len(title):\n",
    "    if type(title) == float:\n",
    "        return np.nan\n",
    "    else:\n",
    "        return len(title.split())\n",
    "\n",
    "def cap_format(title):\n",
    "    if type(title) == float:\n",
    "        return np.nan\n",
    "    else:\n",
    "        return np.mean([token[0].isupper() for token in title.split()])\n",
    "\n",
    "def num_att_punct(title):\n",
    "    if type(title) == float:\n",
    "        return np.nan\n",
    "    else:\n",
    "        return title.count('?') + title.count('!')\n"
   ]
  },
  {
   "cell_type": "code",
   "execution_count": 9,
   "metadata": {},
   "outputs": [
    {
     "data": {
      "text/html": [
       "<div>\n",
       "<style scoped>\n",
       "    .dataframe tbody tr th:only-of-type {\n",
       "        vertical-align: middle;\n",
       "    }\n",
       "\n",
       "    .dataframe tbody tr th {\n",
       "        vertical-align: top;\n",
       "    }\n",
       "\n",
       "    .dataframe thead tr th {\n",
       "        text-align: left;\n",
       "    }\n",
       "\n",
       "    .dataframe thead tr:last-of-type th {\n",
       "        text-align: right;\n",
       "    }\n",
       "</style>\n",
       "<table border=\"1\" class=\"dataframe\">\n",
       "  <thead>\n",
       "    <tr>\n",
       "      <th></th>\n",
       "      <th colspan=\"2\" halign=\"left\">contains_source</th>\n",
       "    </tr>\n",
       "    <tr>\n",
       "      <th></th>\n",
       "      <th>mean</th>\n",
       "      <th>std</th>\n",
       "    </tr>\n",
       "    <tr>\n",
       "      <th>label</th>\n",
       "      <th></th>\n",
       "      <th></th>\n",
       "    </tr>\n",
       "  </thead>\n",
       "  <tbody>\n",
       "    <tr>\n",
       "      <th>0</th>\n",
       "      <td>0.826953</td>\n",
       "      <td>0.378306</td>\n",
       "    </tr>\n",
       "    <tr>\n",
       "      <th>1</th>\n",
       "      <td>0.028669</td>\n",
       "      <td>0.166885</td>\n",
       "    </tr>\n",
       "  </tbody>\n",
       "</table>\n",
       "</div>"
      ],
      "text/plain": [
       "      contains_source          \n",
       "                 mean       std\n",
       "label                          \n",
       "0            0.826953  0.378306\n",
       "1            0.028669  0.166885"
      ]
     },
     "execution_count": 9,
     "metadata": {},
     "output_type": "execute_result"
    }
   ],
   "source": [
    "en_train_df.loc[~en_train_df['title'].isna()] \\\n",
    "    .assign(contains_source=lambda x: x.title.apply(contains_source))\\\n",
    "    .groupby('label')\\\n",
    "    .agg({'contains_source': ['mean', 'std']})"
   ]
  },
  {
   "cell_type": "code",
   "execution_count": 10,
   "metadata": {},
   "outputs": [
    {
     "data": {
      "text/html": [
       "<div>\n",
       "<style scoped>\n",
       "    .dataframe tbody tr th:only-of-type {\n",
       "        vertical-align: middle;\n",
       "    }\n",
       "\n",
       "    .dataframe tbody tr th {\n",
       "        vertical-align: top;\n",
       "    }\n",
       "\n",
       "    .dataframe thead tr th {\n",
       "        text-align: left;\n",
       "    }\n",
       "\n",
       "    .dataframe thead tr:last-of-type th {\n",
       "        text-align: right;\n",
       "    }\n",
       "</style>\n",
       "<table border=\"1\" class=\"dataframe\">\n",
       "  <thead>\n",
       "    <tr>\n",
       "      <th></th>\n",
       "      <th colspan=\"2\" halign=\"left\">num_caps</th>\n",
       "    </tr>\n",
       "    <tr>\n",
       "      <th></th>\n",
       "      <th>mean</th>\n",
       "      <th>std</th>\n",
       "    </tr>\n",
       "    <tr>\n",
       "      <th>label</th>\n",
       "      <th></th>\n",
       "      <th></th>\n",
       "    </tr>\n",
       "  </thead>\n",
       "  <tbody>\n",
       "    <tr>\n",
       "      <th>0</th>\n",
       "      <td>0.259277</td>\n",
       "      <td>0.515472</td>\n",
       "    </tr>\n",
       "    <tr>\n",
       "      <th>1</th>\n",
       "      <td>0.664490</td>\n",
       "      <td>1.505665</td>\n",
       "    </tr>\n",
       "  </tbody>\n",
       "</table>\n",
       "</div>"
      ],
      "text/plain": [
       "       num_caps          \n",
       "           mean       std\n",
       "label                    \n",
       "0      0.259277  0.515472\n",
       "1      0.664490  1.505665"
      ]
     },
     "execution_count": 10,
     "metadata": {},
     "output_type": "execute_result"
    }
   ],
   "source": [
    "en_train_df.loc[~en_train_df['title'].isna()] \\\n",
    "    .assign(num_caps=lambda x: x.title.apply(num_caps))[['label', 'num_caps']]\\\n",
    "    .groupby('label')\\\n",
    "    .agg({'num_caps': ['mean', 'std']})"
   ]
  },
  {
   "cell_type": "code",
   "execution_count": 11,
   "metadata": {},
   "outputs": [
    {
     "data": {
      "text/plain": [
       "<AxesSubplot:title={'center':'title_len'}, xlabel='[label]'>"
      ]
     },
     "execution_count": 11,
     "metadata": {},
     "output_type": "execute_result"
    },
    {
     "data": {
      "image/png": "[encoded data removed]",
      "text/plain": [
       "<Figure size 432x432 with 1 Axes>"
      ]
     },
     "metadata": {
      "needs_background": "light"
     },
     "output_type": "display_data"
    }
   ],
   "source": [
    "en_train_df.loc[~en_train_df['title'].isna()] \\\n",
    "    .assign(title_len=lambda x: x.title.apply(lambda y: len(y.split())))[['label', 'title_len']]\\\n",
    "    .boxplot(by='label', figsize=(6,6))"
   ]
  },
  {
   "cell_type": "code",
   "execution_count": 12,
   "metadata": {},
   "outputs": [
    {
     "data": {
      "text/plain": [
       "<AxesSubplot:title={'center':'cap_format'}, xlabel='[label]'>"
      ]
     },
     "execution_count": 12,
     "metadata": {},
     "output_type": "execute_result"
    },
    {
     "data": {
      "image/png": "[encoded data removed]",
      "text/plain": [
       "<Figure size 432x432 with 1 Axes>"
      ]
     },
     "metadata": {
      "needs_background": "light"
     },
     "output_type": "display_data"
    }
   ],
   "source": [
    "en_train_df.loc[~en_train_df['title'].isna()] \\\n",
    "    .assign(cap_format=lambda x: x.title.apply(cap_format))[['label', 'cap_format']]\\\n",
    "    .boxplot(by='label', figsize=(6,6))"
   ]
  },
  {
   "cell_type": "code",
   "execution_count": 13,
   "metadata": {},
   "outputs": [
    {
     "data": {
      "text/html": [
       "<div>\n",
       "<style scoped>\n",
       "    .dataframe tbody tr th:only-of-type {\n",
       "        vertical-align: middle;\n",
       "    }\n",
       "\n",
       "    .dataframe tbody tr th {\n",
       "        vertical-align: top;\n",
       "    }\n",
       "\n",
       "    .dataframe thead tr th {\n",
       "        text-align: left;\n",
       "    }\n",
       "\n",
       "    .dataframe thead tr:last-of-type th {\n",
       "        text-align: right;\n",
       "    }\n",
       "</style>\n",
       "<table border=\"1\" class=\"dataframe\">\n",
       "  <thead>\n",
       "    <tr>\n",
       "      <th></th>\n",
       "      <th colspan=\"2\" halign=\"left\">num_att_punct</th>\n",
       "    </tr>\n",
       "    <tr>\n",
       "      <th></th>\n",
       "      <th>mean</th>\n",
       "      <th>std</th>\n",
       "    </tr>\n",
       "    <tr>\n",
       "      <th>label</th>\n",
       "      <th></th>\n",
       "      <th></th>\n",
       "    </tr>\n",
       "  </thead>\n",
       "  <tbody>\n",
       "    <tr>\n",
       "      <th>0</th>\n",
       "      <td>0.048145</td>\n",
       "      <td>0.223020</td>\n",
       "    </tr>\n",
       "    <tr>\n",
       "      <th>1</th>\n",
       "      <td>0.145783</td>\n",
       "      <td>0.428556</td>\n",
       "    </tr>\n",
       "  </tbody>\n",
       "</table>\n",
       "</div>"
      ],
      "text/plain": [
       "      num_att_punct          \n",
       "               mean       std\n",
       "label                        \n",
       "0          0.048145  0.223020\n",
       "1          0.145783  0.428556"
      ]
     },
     "execution_count": 13,
     "metadata": {},
     "output_type": "execute_result"
    }
   ],
   "source": [
    "en_train_df.loc[~en_train_df['title'].isna()] \\\n",
    "    .assign(num_att_punct=lambda x: x.title.apply(num_att_punct))[['label', 'num_att_punct']]\\\n",
    "    .groupby('label')\\\n",
    "    .agg({'num_att_punct': ['mean', 'std']})"
   ]
  },
  {
   "cell_type": "markdown",
   "metadata": {},
   "source": [
    "# Content Features"
   ]
  },
  {
   "cell_type": "code",
   "execution_count": 33,
   "metadata": {},
   "outputs": [],
   "source": [
    "def preprocess(text):\n",
    "    if type(text) == float:\n",
    "        return text\n",
    "    out = re.sub(r'\\n', r'\\. ', text)\n",
    "    out = re.sub(r'\\.+', r'\\.', out)\n",
    "    out = re.sub(r'\\s+', ' ', out)\n",
    "    out = re.sub(r'[”“]', '\"', out)\n",
    "    out = re.sub(r'—', '-', out)\n",
    "    return out.strip()"
   ]
  },
  {
   "cell_type": "code",
   "execution_count": 34,
   "metadata": {},
   "outputs": [
    {
     "name": "stderr",
     "output_type": "stream",
     "text": [
      "/tmp/ipykernel_15944/247850255.py:1: SettingWithCopyWarning: \n",
      "A value is trying to be set on a copy of a slice from a DataFrame.\n",
      "Try using .loc[row_indexer,col_indexer] = value instead\n",
      "\n",
      "See the caveats in the documentation: https://pandas.pydata.org/pandas-docs/stable/user_guide/indexing.html#returning-a-view-versus-a-copy\n",
      "  en_train_df['processed_text'] = en_train_df['text'].apply(preprocess)\n"
     ]
    }
   ],
   "source": [
    "en_train_df['processed_text'] = en_train_df['text'].apply(preprocess)"
   ]
  },
  {
   "cell_type": "code",
   "execution_count": 36,
   "metadata": {},
   "outputs": [
    {
     "data": {
      "text/plain": [
       "array([['Roger Ailes has died at 77\\\\. This assesment of his career by our chief television critic was originally published in July 2016, following the departure of Mr\\\\. Ailes from Fox News\\\\. American democracy is meant to be \\\\. Presidents win two terms, maximum\\\\. Supreme Court justices are one voice among nine (or, currently, eight) senators one in a hundred\\\\. To amass the kind of power that allows you to shape politics and culture geologically, like a river carving out a canyon, you have to go elsewhere\\\\. Roger Ailes found that place\\\\. At Fox News - the outlet Mr\\\\. Ailes created, ran and drove like a bullet train for two decades - he was a unitary force\\\\. And he was not until Thursday, when he stepped down over charges, which began with a lawsuit by the former Fox anchor Gretchen Carlson, that he sexually harassed a series of women over the years\\\\. With Fox News, Mr\\\\. Ailes introduced a brash, style that influences much of today’s media\\\\. But the closest comparison for him might be less CNN’s Ted Turner than someone like J\\\\. Edgar Hoover: a power behind the power, unelected but mighty, outliving administrations and the ebbs and flows of elections, ruling by force and fear\\\\. Mr\\\\. Ailes was a TV guy before he was a politics guy, and then he became a TV guy again\\\\. But he recognized, faster than others, that on some level TV and politics were the same thing\\\\. They fed off the same energy and animal spirits\\\\. It was Mr\\\\. Ailes, then the executive producer of \"The Mike Douglas Show,\" who persuaded Richard Nixon of the importance of television in the 1968 election\\\\. The candidate, who seemed blindsided in 1960 by the new medium, won the presidency through the first modern campaign\\\\. Mr\\\\. Ailes became a media guru for Republicans, prodding voters’ centers of emotion and insecurity\\\\. For George H\\\\. W\\\\. Bush in 1988, he produced the sleazy and effective \"Revolving Door\" ad that tarred Michael Dukakis by association with murderers and rapists\\\\. In 1996, he signed on to start a cable news channel for the conservative media mogul Rupert Murdoch, as dispirited conservatives were looking down the barrel of a second Bill Clinton term\\\\. Fox News Channel, not Bob Dole or the Clinton impeachment case, would be conservatism’s next great weapon\\\\. Fox News Channel was a business opportunity rolled up in a political argument - conservatives’ belief that the news media were aligned against them\\\\. Its slogans, \"We report, you decide\" and \"Fair and balanced,\" were a wink and a promise\\\\. You decide to watch us, we’ll balance this situation out\\\\. Fox News gave Mr\\\\. Ailes an entire media outlet with which to abet and influence Republican politics, amplifying messages, sounding themes and picking winners\\\\. He ran Fox like a political operation, down to its messaging and tactics against perceived enemies\\\\. Fox public relations worked and fought, in the words of the media columnist David Carr of The New York Times, like \"a kind of rolling opposition research operation\\\\. \" There was a parlor game, among types who covered media, of reading furious missives from Fox to detect the heat of Mr\\\\. Ailes’s personal voice\\\\. But Mr\\\\. Ailes also shaped TV news in the way that his generation shaped politics\\\\. It was a revolution of tone, production style and manners as much as ideology\\\\. Politics and media of the midcentury, era were shaped by norms of tone and content\\\\. You respected certain codes of gravitas\\\\. You practiced professional dispassion\\\\. You might chase ratings, but you recognized an interest in appearing like something other than entertainment\\\\. Even CNN, which shook up the broadcast news paradigm, featured stately battleships of dignity like Bernard Shaw\\\\. The idea of Fox News, journalistically and aesthetically, was: screw the norms\\\\. What if we just get right up in your face? Yes, a big part of that was political\\\\. The Fox model was bifurcated, with conservative hosts dominating prime time\\\\. Like the in \"The Blues Brothers\" that had \"both kinds\" of music, \"country and western,\" it offered a rightist sampler running from Sean Hannity’s Republicanism to Bill O’Reilly’s pugnacious East Coast populism\\\\. The daytime was structured like a standard news report, but it was coded - the tone, the choice of topics, the looks of the anchors - that in a way told conservatives they were at home\\\\. Fox daytime \"played it straight,\" was the network’s line\\\\. But if you had half an ear, you could pick up the tune\\\\. Fox also changed the aesthetics of news, reflecting Mr\\\\. Ailes’s instinct that messaging needs visceral pizazz\\\\. The graphics whooshed at you like a Blue Angels flyover\\\\. The soundtrack was percussive and martial\\\\. On Fox, the news was something to get pumped about, the mood always agitated - less Walter Cronkite, more Michael Bay\\\\. Fox’s format made a powerful political platform and a good ratings proposition\\\\. Traditional programs or stations lived or died on the news cycle\\\\. On Fox, there was always reason to watch, some provocation, some grievance, some P\\\\. C\\\\. liberal somewhere going too far again\\\\. After the attacks, Fox topped the ratings, and its competitors played \\\\. CNN, in a series of identity crises, remade and remade itself\\\\. MSNBC went through a feeble, phase as a network, a Fox Jr\\\\. before becoming a wonky, progressive \\\\. Other news media become more more willing to accept the proposition that everyone has a point of view, and might as well embrace it\\\\. Fox didn’t cause that alone - talk radio came before, the multiplicity of online outlets after - but it provided one model\\\\. Fox News became a dressing room in which conservatism could try on new outfits\\\\. During the early Obama and Tea Party years, Glenn Beck burned brightly and briefly, with his histrionics and a penchant for conspiracy theories that foreshadowed the current election cycle\\\\. And candidates lined up for appearances - what was called the \"Fox primary\\\\. \" It was a revolving door of politicians who become contributors who become candidates: Mike Huckabee, Newt Gingrich, Sarah Palin\\\\. Now, as my colleague Jim Rutenberg noted, Mr\\\\. Ailes’s downfall comes as the Fox ethos has its apotheosis in the Republican nominee, Donald J\\\\. Trump, a being made of pure television\\\\. Fox News didn’t make Mr\\\\. Trump \\\\. But it made the conditions that made him\\\\. Resentment politics, for instance\\\\. Mr\\\\. Ailes, and thus Fox, recognized that an aggrieved group needed constant grievance, even in victory\\\\. Take the \"War on Christmas,\" which was fought annually on Fox\\\\. It became a throwaway line for Mr\\\\. Trump - people would say \"Merry Christmas\" in his America, by God! But the spirit of the war on Christmas is everywhere in his campaign\\\\. It’s in the idea of the fallen majority - that your thing (religious, racial, whatever) used to be the main thing in America, it used to be honored, and now it’s overwhelmed and disrespected, but we are going to bring it back\\\\. \"Anchor babies\\\\. \" The \"Ground Zero mosque\\\\. \" Birtherism\\\\. All these themes were on Fox, and embraced in the subculture of the Republican base, before Mr\\\\. Trump adopted them\\\\. Note by note, the channel built the instrument that Mr\\\\. Trump plays like a concert pianist\\\\. Beyond that, Fox bolstered the powerful idea, key to his campaign, that traditional gatekeepers and claims to expertise were illegitimate\\\\. \"Fair and balanced,\" after all, implied that no one else was balanced, and thus any other information could be dismissed\\\\. Newspapers, scientists, egghead - forget them\\\\. There was only Fox\\\\. This gave Mr\\\\. Trump, with his tendency to improvise his own facts, an assist - and, when he briefly went to war against Fox News and its anchor Megyn Kelly during the primary, a weapon\\\\. When he delegitimized Fox to his followers, there was no countervailing authority left\\\\. Now there was only Trump\\\\. Today Mr\\\\. Trump is at peace with Fox, because he won\\\\. And with Mr\\\\. Ailes gone, the populist spirit we’ve come to associate with Fox News may pass to Trump\\\\. (Completing the motif, Mr\\\\. Trump’s campaign is reported to be overtly modeling itself on the very 1968 \" \" campaign that Mr\\\\. Ailes helped win for Mr\\\\. Nixon\\\\.) Fox News after Mr\\\\. Ailes may remain a conservative destination\\\\. If nothing else, it still has a big audience\\\\. But Mr\\\\. Murdoch’s children don’t seem politically driven like Mr\\\\. Ailes, so the channel may never again be the same kind of singular, personally driven force\\\\. Of course, someone else’s media entity might be\\\\. There has been speculation, should Mr\\\\. Trump lose in November, that he might start his own media organization\\\\. And if he wins, he’ll be a media conglomerate in himself\\\\. One way or the other, for better or worse, he would be part of Mr\\\\. Ailes’s legacy\\\\.',\n",
       "        0]], dtype=object)"
      ]
     },
     "execution_count": 36,
     "metadata": {},
     "output_type": "execute_result"
    }
   ],
   "source": [
    "en_train_df.sample(1)[['processed_text', 'label']].values"
   ]
  },
  {
   "cell_type": "code",
   "execution_count": null,
   "metadata": {},
   "outputs": [],
   "source": []
  }
 ],
 "metadata": {
  "interpreter": {
   "hash": "3b4bd06d821fa8ee9a536109c5936588bf4f70e43a99d36f6486491d72520775"
  },
  "kernelspec": {
   "display_name": "Python 3.8.6 64-bit ('.venv': poetry)",
   "name": "python3"
  },
  "language_info": {
   "codemirror_mode": {
    "name": "ipython",
    "version": 3
   },
   "file_extension": ".py",
   "mimetype": "text/x-python",
   "name": "python",
   "nbconvert_exporter": "python",
   "pygments_lexer": "ipython3",
   "version": "3.8.6"
  },
  "orig_nbformat": 4
 },
 "nbformat": 4,
 "nbformat_minor": 2
}
